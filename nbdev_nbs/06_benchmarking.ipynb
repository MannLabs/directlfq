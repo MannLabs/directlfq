{
 "cells": [
  {
   "cell_type": "code",
   "execution_count": null,
   "metadata": {},
   "outputs": [],
   "source": [
    "#| default_exp benchmarking"
   ]
  },
  {
   "cell_type": "markdown",
   "metadata": {},
   "source": [
    "### Test input df creation"
   ]
  },
  {
   "cell_type": "code",
   "execution_count": null,
   "metadata": {},
   "outputs": [],
   "source": [
    "#| include: false\n",
    "import numpy as np\n",
    "import pandas as pd\n",
    "import directlfq.benchmarking as lfq_benchmarking\n",
    "\n",
    "quant_df  = pd.DataFrame({'sample_list' : [1, 1, 1, 2, 2, 2, 3], 'asd' : ['a', 'b', 'c', 'd', 'e', 'f', 'g'], 'cfs' : [11, 23, 4, 5, 7, 4, 9]})\n",
    "samplelist_df = pd.DataFrame({'sample_list' : ['s1', 's2', 's3']})\n",
    "\n",
    "def test_that_scaled_numbers_of_samples_are_as_expected(quant_df, samplelist_df,desired_num_samples):    \n",
    "    scaled_df_creator = lfq_benchmarking.ScaledDFCreatorIQFormat(quant_df, samplelist_df, desired_num_samples)\n",
    "    assert len(set(scaled_df_creator.scaled_quant_df[\"sample_list\"])) == desired_num_samples\n",
    "    assert len(scaled_df_creator.scaled_sample_list_df.index) == desired_num_samples\n",
    "\n",
    "\n",
    "test_that_scaled_numbers_of_samples_are_as_expected(quant_df, samplelist_df, 1)\n",
    "test_that_scaled_numbers_of_samples_are_as_expected(quant_df, samplelist_df, 7)\n",
    "test_that_scaled_numbers_of_samples_are_as_expected(quant_df, samplelist_df, 13)\n",
    "\n",
    "\n",
    "def test_that_repetition_worked_out(quant_df, samplelist_df):\n",
    "    scaled_df_creator = lfq_benchmarking.ScaledDFCreatorIQFormat(quant_df, samplelist_df, 7)\n",
    "    assert np.all(scaled_df_creator.scaled_quant_df[\"sample_list\"][6] == [3])\n",
    "\n",
    "test_that_repetition_worked_out(quant_df, samplelist_df)"
   ]
  },
  {
   "cell_type": "code",
   "execution_count": null,
   "metadata": {},
   "outputs": [],
   "source": [
    "#| include: false\n",
    "import pandas as pd\n",
    "import numpy as np\n",
    "import directlfq.benchmarking as lfq_benchmarking\n",
    "\n",
    "class TemplateDFCreator():\n",
    "    def __init__(self):\n",
    "\n",
    "        self.template_df = None\n",
    "        self._template_df_location = \"../test_data/unit_tests/protein_normalization/example_proteins.tsv\"\n",
    "        self._create_template_df()\n",
    "\n",
    "    def _create_template_df(self):\n",
    "        self.template_df = pd.read_csv(self._template_df_location, index_col= [\"protein\", \"ion\"], sep = \"\\t\")\n",
    "\n",
    "\n",
    "def test_that_shape_is_as_expected(num_samples):\n",
    "    template_df = TemplateDFCreator().template_df\n",
    "    size_adjusted_df = lfq_benchmarking.ScaledDFCreatorDirectLFQFormat(template_df=template_df, desired_number_of_samples= num_samples).scaled_df\n",
    "    assert len(size_adjusted_df.columns) == num_samples\n",
    "    assert len(size_adjusted_df.index) == len(template_df.index)\n",
    "    print(\"performed_checks\")\n",
    "\n",
    "\n",
    "test_that_shape_is_as_expected(1)\n",
    "test_that_shape_is_as_expected(100)\n",
    "test_that_shape_is_as_expected(10000)\n",
    "\n",
    "def test_that_values_are_as_expected(num_samples):\n",
    "    template_df = TemplateDFCreator().template_df\n",
    "    size_adjusted_df = lfq_benchmarking.ScaledDFCreatorDirectLFQFormat(template_df=template_df, desired_number_of_samples= num_samples).scaled_df\n",
    "    assert np.allclose(template_df.loc[:,\"BoxCar_02-01_2\"], size_adjusted_df.loc[:, \"BoxCar_02-01_2_AND_remainder\"])\n",
    "\n",
    "\n",
    "test_that_values_are_as_expected(5)\n",
    "test_that_values_are_as_expected(100)\n"
   ]
  },
  {
   "cell_type": "markdown",
   "metadata": {},
   "source": [
    "### Learning Tests"
   ]
  },
  {
   "cell_type": "code",
   "execution_count": null,
   "metadata": {},
   "outputs": [],
   "source": [
    "import seaborn as sns\n",
    "import numpy as np\n",
    "\n",
    "\n",
    "def check_taking_mean_of_pandas_columns():\n",
    "    df = sns.load_dataset('iris')\n",
    "    display(df)\n",
    "    df.iloc[3:6, 1] = np.nan\n",
    "    display(df)\n",
    "    df['mean_sepal_width_petal_length'] = df[[\"sepal_width\", \"petal_length\"]].median(axis = 1, skipna = True)\n",
    "    assert df.loc[3, 'mean_sepal_width_petal_length'] == df.loc[3, 'petal_length']\n",
    "\n",
    "\n",
    "check_taking_mean_of_pandas_columns()"
   ]
  },
  {
   "cell_type": "code",
   "execution_count": null,
   "metadata": {},
   "outputs": [],
   "source": [
    "import numpy as np\n",
    "import pandas as pd\n",
    "import seaborn as sns\n",
    "def check_cv_calculation_along_a_dataframe_axis():\n",
    "        \n",
    "    df_test = sns.load_dataset(\"iris\").drop(labels = \"species\", axis = 1)\n",
    "    cv_function = lambda x: np.std(x, ddof=1,) / np.mean(x)\n",
    "    cv_results = df_test.apply(cv_function, axis=1)\n",
    "    display(df_test)\n",
    "    display(cv_results)"
   ]
  },
  {
   "cell_type": "code",
   "execution_count": null,
   "metadata": {},
   "outputs": [],
   "source": [
    "import pandas as pd\n",
    "import seaborn as sns\n",
    "\n",
    "def check_denisty_plot(kind):\n",
    "    df_data = sns.load_dataset(\"iris\")\n",
    "    arr1 = list(df_data[\"sepal_length\"])\n",
    "    arr2 = list(df_data[\"petal_length\"])\n",
    "    arr3 = list(df_data[\"petal_width\"])\n",
    "    df_1 = create_df_for_list(arr1, \"A\")\n",
    "    df_2 = create_df_for_list(arr2, \"B\")\n",
    "    df_3 = create_df_for_list(arr3, \"C\")\n",
    "    #df_merged = pd.concat([df_1, df_2, df_3]).reset_index()\n",
    "    df_merged = pd.concat([df_3]).reset_index()\n",
    "    sns.displot(data=df_merged, x='lisast',hue='list_name', kind=kind)\n",
    "\n",
    "\n",
    "def create_df_for_list(list, list_name):\n",
    "    df = pd.DataFrame({'lisast' : list})\n",
    "    df['list_name'] = list_name\n",
    "    return df\n",
    "\n",
    "check_denisty_plot('kde')\n",
    "check_denisty_plot('hist')\n"
   ]
  }
 ],
 "metadata": {
  "kernelspec": {
   "display_name": "Python 3.8.13 ('directlfq')",
   "language": "python",
   "name": "python3"
  },
  "language_info": {
   "codemirror_mode": {
    "name": "ipython",
    "version": 3
   },
   "file_extension": ".py",
   "mimetype": "text/x-python",
   "name": "python",
   "nbconvert_exporter": "python",
   "pygments_lexer": "ipython3",
   "version": "3.9.20"
  }
 },
 "nbformat": 4,
 "nbformat_minor": 2
}
