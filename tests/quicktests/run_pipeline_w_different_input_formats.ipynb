{
 "cells": [
  {
   "cell_type": "code",
   "execution_count": null,
   "metadata": {},
   "outputs": [],
   "source": [
    "import alphabase\n",
    "import alphabase.test_data_downloader\n",
    "\n",
    "alphabase.test_data_downloader.DataShareDownloader(url=\"https://datashare.biochem.mpg.de/s/VJm70w0p2P86tE1\", output_dir=\"../../test_data/system_tests\").download()"
   ]
  },
  {
   "cell_type": "code",
   "execution_count": null,
   "metadata": {},
   "outputs": [],
   "source": [
    "quicktest_folder_mq_peptides = \"../../test_data/system_tests/quicktests/mq_peptides\"\n",
    "\n",
    "quicktest_folder_mq_evidence = \"../../test_data/system_tests/quicktests/mq_evidence\"\n",
    "\n",
    "quicktest_folder_diann = \"../../test_data/system_tests/quicktests/diann\"\n",
    "\n",
    "quicktest_folder_spectronaut = \"../../test_data/system_tests/quicktests/spectronaut\"\n",
    "\n",
    "quicktest_folders = [quicktest_folder_mq_peptides, quicktest_folder_mq_evidence, quicktest_folder_diann, quicktest_folder_spectronaut]"
   ]
  },
  {
   "cell_type": "code",
   "execution_count": null,
   "metadata": {},
   "outputs": [],
   "source": [
    "import directlfq.lfq_manager as lfq_manager\n",
    "diann_quicktest_file_parquet = f\"{quicktest_folder_diann}/shortened_input.parquet\"\n",
    "\n",
    "lfq_manager.run_lfq(diann_quicktest_file_parquet, input_type_to_use='diann_precursor_ms1_and_ms2', num_cores=1)"
   ]
  },
  {
   "cell_type": "code",
   "execution_count": null,
   "metadata": {},
   "outputs": [],
   "source": [
    "# run diann\n",
    "import directlfq.lfq_manager as lfq_manager\n",
    "import pandas as pd\n",
    "diann_quicktest_file = f\"{quicktest_folder_diann}/shortened_input.tsv\"\n",
    "diann_quicktest_file_parquet = f\"{quicktest_folder_diann}/shortened_input.parquet\"\n",
    "filterdict_file = f\"{quicktest_folder_diann}/filterdict.yaml\"\n",
    "filter_dict={'protein_filt': {'param': 'Lib.PG.Q.Value', 'comparator': '<=', 'value': 0.01},\n",
    "                                                            'peptide_filt' :{'param' : 'Lib.Q.Value','comparator': '<=', 'value': 0.01}}\n",
    "if __name__ == '__main__':    \n",
    "    lfq_manager.run_lfq(diann_quicktest_file,  filter_dict=filterdict_file, num_cores=1)\n",
    "    lfq_manager.run_lfq(diann_quicktest_file, input_type_to_use='diann_peptide_based_on_precursor_ms1_and_ms2', filter_dict=filter_dict)\n",
    "    lfq_manager.run_lfq(diann_quicktest_file, input_type_to_use='diann_precursor_ms1_and_ms2')\n",
    "    lfq_manager.run_lfq(diann_quicktest_file_parquet, input_type_to_use='diann_precursor_ms1_and_ms2')\n"
   ]
  },
  {
   "cell_type": "code",
   "execution_count": null,
   "metadata": {},
   "outputs": [],
   "source": [
    "#run mq peptides\n",
    "\n",
    "import directlfq.lfq_manager as lfq_manager\n",
    "\n",
    "\n",
    "mq_peptides_quicktest_file = f\"{quicktest_folder_mq_peptides}/shortened_input.tsv\"\n",
    "mq_protgroups_quicktest_file = f\"{quicktest_folder_mq_peptides}/proteinGroups.txt\"\n",
    "if __name__ == '__main__':\n",
    "    lfq_manager.run_lfq(mq_peptides_quicktest_file, mq_protein_groups_txt= mq_protgroups_quicktest_file, \n",
    "num_cores=1)"
   ]
  },
  {
   "cell_type": "code",
   "execution_count": null,
   "metadata": {},
   "outputs": [],
   "source": [
    "#run mq evidence\n",
    "\n",
    "import directlfq.lfq_manager as lfq_manager\n",
    "\n",
    "mq_evidence_quicktest_file = f\"{quicktest_folder_mq_evidence}/shortened_input.tsv\"\n",
    "mq_protgroups_quicktest_file = f\"{quicktest_folder_mq_evidence}/proteinGroups.txt\"\n",
    "selected_proteins_file = f\"{quicktest_folder_mq_evidence}/selected_proteins.txt\"\n",
    "if __name__ == '__main__':    \n",
    "    lfq_manager.run_lfq(mq_evidence_quicktest_file, mq_protein_groups_txt= mq_protgroups_quicktest_file)\n",
    "    lfq_manager.run_lfq(mq_evidence_quicktest_file, mq_protein_groups_txt= mq_protgroups_quicktest_file,selected_proteins_file=selected_proteins_file, num_cores=1)"
   ]
  },
  {
   "cell_type": "code",
   "execution_count": null,
   "metadata": {},
   "outputs": [],
   "source": [
    "# run spectronaut\n",
    "import directlfq.lfq_manager as lfq_manager\n",
    "\n",
    "spectronaut_quicktest_file = f\"{quicktest_folder_spectronaut}/shortened_input.tsv\"\n",
    "spectronaut_protein_subset = f\"{quicktest_folder_spectronaut}/protein_subset.tsv\"\n",
    "if __name__ == '__main__':    \n",
    "    lfq_manager.run_lfq(spectronaut_quicktest_file, selected_proteins_file=spectronaut_protein_subset, num_cores=1, compile_normalized_ion_table=True)\n",
    "    lfq_manager.run_lfq(spectronaut_quicktest_file)"
   ]
  }
 ],
 "metadata": {
  "kernelspec": {
   "display_name": "directlfq",
   "language": "python",
   "name": "python3"
  },
  "language_info": {
   "codemirror_mode": {
    "name": "ipython",
    "version": 3
   },
   "file_extension": ".py",
   "mimetype": "text/x-python",
   "name": "python",
   "nbconvert_exporter": "python",
   "pygments_lexer": "ipython3",
   "version": "3.9.20"
  }
 },
 "nbformat": 4,
 "nbformat_minor": 2
}
