{
 "cells": [
  {
   "cell_type": "code",
   "execution_count": 1,
   "metadata": {},
   "outputs": [],
   "source": [
    "quicktest_folder_mq_peptides = \"../../test_data/system_tests/quicktests/mq_peptides\"\n",
    "\n",
    "quicktest_folder_mq_evidence = \"../../test_data/system_tests/quicktests/mq_evidence\"\n",
    "\n",
    "quicktest_folder_diann = \"../../test_data/system_tests/quicktests/diann\"\n",
    "\n",
    "quicktest_folder_spectronaut = \"../../test_data/system_tests/quicktests/spectronaut\"\n",
    "\n",
    "quicktest_folders = [quicktest_folder_mq_peptides, quicktest_folder_mq_evidence, quicktest_folder_diann, quicktest_folder_spectronaut]"
   ]
  },
  {
   "cell_type": "code",
   "execution_count": 2,
   "metadata": {},
   "outputs": [
    {
     "name": "stderr",
     "output_type": "stream",
     "text": [
      "2024-02-21 14:42:13,290 - directlfq.lfq_manager - INFO - Starting directLFQ analysis.\n",
      "2024-02-21 14:42:13,373 - directlfq.utils - INFO - using input type diann_precursor_ms1_and_ms2\n",
      "2024-02-21 14:42:13,499 - directlfq.lfq_manager - INFO - Performing sample normalization.\n",
      "2024-02-21 14:42:13,500 - root - INFO - Normalizing only selected proteins\n",
      "2024-02-21 14:42:14,761 - directlfq.lfq_manager - INFO - Estimating lfq intensities.\n",
      "2024-02-21 14:42:14,762 - directlfq.protein_intensity_estimation - INFO - 46 lfq-groups total\n",
      "2024-02-21 14:42:14,781 - directlfq.protein_intensity_estimation - INFO - lfq-object 0\n",
      "2024-02-21 14:42:15,878 - directlfq.lfq_manager - INFO - Writing results files.\n",
      "2024-02-21 14:42:15,899 - directlfq.lfq_manager - INFO - Analysis finished!\n"
     ]
    }
   ],
   "source": [
    "# run diann\n",
    "import directlfq.lfq_manager as lfq_manager\n",
    "import pandas as pd\n",
    "diann_quicktest_file = f\"{quicktest_folder_diann}/shortened_input.tsv\"\n",
    "filterdict_file = f\"{quicktest_folder_diann}/filterdict.yaml\"\n",
    "filter_dict={'protein_filt': {'param': 'Lib.PG.Q.Value', 'comparator': '<=', 'value': 0.01},\n",
    "                                                            'peptide_filt' :{'param' : 'Lib.Q.Value','comparator': '<=', 'value': 0.01}}\n",
    "\n",
    "lfq_manager.run_lfq(diann_quicktest_file, input_type_to_use='diann_precursor_ms1_and_ms2',\n",
    "                        selected_proteins_file = f\"{quicktest_folder_diann}/selected_protein_subset.tsv\", filename_suffix= \"subset_normalization.tsv\", num_cores=1)\n"
   ]
  },
  {
   "cell_type": "code",
   "execution_count": 3,
   "metadata": {},
   "outputs": [
    {
     "name": "stderr",
     "output_type": "stream",
     "text": [
      "2024-02-21 14:42:15,906 - directlfq.lfq_manager - INFO - Starting directLFQ analysis.\n",
      "2024-02-21 14:42:16,064 - directlfq.utils - INFO - using input type diann_precursors\n",
      "2024-02-21 14:42:16,129 - directlfq.lfq_manager - INFO - Performing sample normalization.\n",
      "2024-02-21 14:42:16,131 - directlfq.normalization - INFO - to few values for normalization without missing values. Including missing values\n",
      "2024-02-21 14:42:16,135 - directlfq.lfq_manager - INFO - Estimating lfq intensities.\n",
      "2024-02-21 14:42:16,135 - directlfq.protein_intensity_estimation - INFO - 46 lfq-groups total\n",
      "2024-02-21 14:42:16,153 - directlfq.protein_intensity_estimation - INFO - lfq-object 0\n",
      "2024-02-21 14:42:16,800 - directlfq.lfq_manager - INFO - Writing results files.\n",
      "2024-02-21 14:42:16,815 - directlfq.lfq_manager - INFO - Analysis finished!\n",
      "2024-02-21 14:42:16,816 - directlfq.lfq_manager - INFO - Starting directLFQ analysis.\n",
      "2024-02-21 14:42:16,940 - directlfq.utils - INFO - using input type diann_peptide_based_on_precursor_ms1_and_ms2\n",
      "2024-02-21 14:42:17,094 - directlfq.lfq_manager - INFO - Performing sample normalization.\n",
      "2024-02-21 14:42:17,099 - directlfq.lfq_manager - INFO - Estimating lfq intensities.\n",
      "2024-02-21 14:42:17,100 - directlfq.protein_intensity_estimation - INFO - 840 lfq-groups total\n",
      "2024-02-21 14:42:17,438 - directlfq.protein_intensity_estimation - INFO - using 10 processes\n",
      "2024-02-21 14:42:17,461 - directlfq.protein_intensity_estimation - INFO - lfq-object 0\n",
      "2024-02-21 14:42:17,522 - directlfq.protein_intensity_estimation - INFO - lfq-object 100\n",
      "2024-02-21 14:42:17,582 - directlfq.protein_intensity_estimation - INFO - lfq-object 200\n",
      "2024-02-21 14:42:17,637 - directlfq.protein_intensity_estimation - INFO - lfq-object 300\n",
      "2024-02-21 14:42:17,692 - directlfq.protein_intensity_estimation - INFO - lfq-object 400\n",
      "2024-02-21 14:42:17,756 - directlfq.protein_intensity_estimation - INFO - lfq-object 500\n",
      "2024-02-21 14:42:17,816 - directlfq.protein_intensity_estimation - INFO - lfq-object 600\n",
      "2024-02-21 14:42:17,874 - directlfq.protein_intensity_estimation - INFO - lfq-object 700\n",
      "2024-02-21 14:42:17,930 - directlfq.protein_intensity_estimation - INFO - lfq-object 800\n",
      "2024-02-21 14:42:18,146 - directlfq.lfq_manager - INFO - Writing results files.\n",
      "2024-02-21 14:42:18,177 - directlfq.lfq_manager - INFO - Analysis finished!\n",
      "2024-02-21 14:42:18,178 - directlfq.lfq_manager - INFO - Starting directLFQ analysis.\n",
      "2024-02-21 14:42:18,315 - directlfq.utils - INFO - using input type diann_precursor_ms1_and_ms2\n",
      "2024-02-21 14:42:18,447 - directlfq.lfq_manager - INFO - Performing sample normalization.\n",
      "2024-02-21 14:42:18,453 - directlfq.lfq_manager - INFO - Estimating lfq intensities.\n",
      "2024-02-21 14:42:18,454 - directlfq.protein_intensity_estimation - INFO - 46 lfq-groups total\n",
      "2024-02-21 14:42:18,556 - directlfq.protein_intensity_estimation - INFO - using 10 processes\n",
      "2024-02-21 14:42:18,566 - directlfq.protein_intensity_estimation - INFO - lfq-object 0\n",
      "2024-02-21 14:42:18,916 - directlfq.lfq_manager - INFO - Writing results files.\n",
      "2024-02-21 14:42:18,940 - directlfq.lfq_manager - INFO - Analysis finished!\n",
      "2024-02-21 14:42:18,940 - directlfq.lfq_manager - INFO - Starting directLFQ analysis.\n",
      "2024-02-21 14:42:19,020 - directlfq.utils - INFO - using input type diann_precursor_ms1_and_ms2\n",
      "2024-02-21 14:42:19,143 - directlfq.lfq_manager - INFO - Performing sample normalization.\n",
      "2024-02-21 14:42:19,144 - root - INFO - Normalizing only selected proteins\n",
      "2024-02-21 14:42:19,148 - directlfq.lfq_manager - INFO - Estimating lfq intensities.\n",
      "2024-02-21 14:42:19,149 - directlfq.protein_intensity_estimation - INFO - 46 lfq-groups total\n",
      "2024-02-21 14:42:19,236 - directlfq.protein_intensity_estimation - INFO - using 10 processes\n",
      "2024-02-21 14:42:19,244 - directlfq.protein_intensity_estimation - INFO - lfq-object 0\n",
      "2024-02-21 14:42:19,590 - directlfq.lfq_manager - INFO - Writing results files.\n",
      "2024-02-21 14:42:19,611 - directlfq.lfq_manager - INFO - Analysis finished!\n"
     ]
    }
   ],
   "source": [
    "# run diann\n",
    "import directlfq.lfq_manager as lfq_manager\n",
    "import pandas as pd\n",
    "diann_quicktest_file = f\"{quicktest_folder_diann}/shortened_input.tsv\"\n",
    "filterdict_file = f\"{quicktest_folder_diann}/filterdict.yaml\"\n",
    "filter_dict={'protein_filt': {'param': 'Lib.PG.Q.Value', 'comparator': '<=', 'value': 0.01},\n",
    "                                                            'peptide_filt' :{'param' : 'Lib.Q.Value','comparator': '<=', 'value': 0.01}}\n",
    "if __name__ == '__main__':    \n",
    "    lfq_manager.run_lfq(diann_quicktest_file,  filter_dict=filterdict_file, num_cores=1)\n",
    "    lfq_manager.run_lfq(diann_quicktest_file, input_type_to_use='diann_peptide_based_on_precursor_ms1_and_ms2', filter_dict=filter_dict)\n",
    "    lfq_manager.run_lfq(diann_quicktest_file, input_type_to_use='diann_precursor_ms1_and_ms2')\n",
    "    lfq_manager.run_lfq(diann_quicktest_file, input_type_to_use='diann_precursor_ms1_and_ms2',\n",
    "                        selected_proteins_file = f\"{quicktest_folder_diann}/selected_protein_subset.tsv\", filename_suffix= \"subset_normalization.tsv\") \n",
    "\n"
   ]
  },
  {
   "cell_type": "code",
   "execution_count": 4,
   "metadata": {},
   "outputs": [
    {
     "name": "stderr",
     "output_type": "stream",
     "text": [
      "2024-02-21 14:42:19,619 - directlfq.lfq_manager - INFO - Starting directLFQ analysis.\n",
      "2024-02-21 14:42:19,779 - directlfq.utils - INFO - using input type maxquant_peptides_leading_razor_protein\n",
      "2024-02-21 14:42:19,828 - directlfq.lfq_manager - INFO - Performing sample normalization.\n",
      "2024-02-21 14:42:19,829 - directlfq.normalization - INFO - to few values for normalization without missing values. Including missing values\n",
      "2024-02-21 14:42:19,835 - directlfq.lfq_manager - INFO - Estimating lfq intensities.\n",
      "2024-02-21 14:42:19,835 - directlfq.protein_intensity_estimation - INFO - 49 lfq-groups total\n",
      "2024-02-21 14:42:19,852 - directlfq.protein_intensity_estimation - INFO - lfq-object 0\n",
      "2024-02-21 14:42:20,439 - directlfq.lfq_manager - INFO - Writing results files.\n",
      "2024-02-21 14:42:20,454 - directlfq.lfq_manager - INFO - Analysis finished!\n"
     ]
    }
   ],
   "source": [
    "#run mq peptides\n",
    "\n",
    "import directlfq.lfq_manager as lfq_manager\n",
    "\n",
    "\n",
    "mq_peptides_quicktest_file = f\"{quicktest_folder_mq_peptides}/shortened_input.tsv\"\n",
    "mq_protgroups_quicktest_file = f\"{quicktest_folder_mq_peptides}/proteinGroups.txt\"\n",
    "if __name__ == '__main__':\n",
    "    lfq_manager.run_lfq(mq_peptides_quicktest_file, mq_protein_groups_txt= mq_protgroups_quicktest_file, \n",
    "num_cores=1)"
   ]
  },
  {
   "cell_type": "code",
   "execution_count": 5,
   "metadata": {},
   "outputs": [
    {
     "name": "stderr",
     "output_type": "stream",
     "text": [
      "2024-02-21 14:42:20,461 - directlfq.lfq_manager - INFO - Starting directLFQ analysis.\n",
      "2024-02-21 14:42:20,618 - directlfq.utils - INFO - using input type maxquant_evidence_leading_razor_protein\n",
      "2024-02-21 14:42:20,726 - directlfq.lfq_manager - INFO - Performing sample normalization.\n",
      "2024-02-21 14:42:20,728 - directlfq.normalization - INFO - to few values for normalization without missing values. Including missing values\n",
      "2024-02-21 14:42:20,735 - directlfq.lfq_manager - INFO - Estimating lfq intensities.\n",
      "2024-02-21 14:42:20,735 - directlfq.protein_intensity_estimation - INFO - 50 lfq-groups total\n",
      "2024-02-21 14:42:20,821 - directlfq.protein_intensity_estimation - INFO - using 10 processes\n",
      "2024-02-21 14:42:20,830 - directlfq.protein_intensity_estimation - INFO - lfq-object 0\n",
      "2024-02-21 14:42:21,083 - directlfq.lfq_manager - INFO - Writing results files.\n",
      "2024-02-21 14:42:21,101 - directlfq.lfq_manager - INFO - Analysis finished!\n",
      "2024-02-21 14:42:21,102 - directlfq.lfq_manager - INFO - Starting directLFQ analysis.\n",
      "2024-02-21 14:42:21,260 - directlfq.utils - INFO - using input type maxquant_evidence_leading_razor_protein\n",
      "2024-02-21 14:42:21,371 - directlfq.lfq_manager - INFO - Performing sample normalization.\n",
      "2024-02-21 14:42:21,371 - root - INFO - Normalizing only selected proteins\n",
      "2024-02-21 14:42:21,379 - directlfq.lfq_manager - INFO - Estimating lfq intensities.\n",
      "2024-02-21 14:42:21,379 - directlfq.protein_intensity_estimation - INFO - 50 lfq-groups total\n",
      "2024-02-21 14:42:21,395 - directlfq.protein_intensity_estimation - INFO - lfq-object 0\n",
      "2024-02-21 14:42:22,167 - directlfq.lfq_manager - INFO - Writing results files.\n",
      "2024-02-21 14:42:22,185 - directlfq.lfq_manager - INFO - Analysis finished!\n"
     ]
    }
   ],
   "source": [
    "#run mq evidence\n",
    "\n",
    "import directlfq.lfq_manager as lfq_manager\n",
    "\n",
    "mq_evidence_quicktest_file = f\"{quicktest_folder_mq_evidence}/shortened_input.tsv\"\n",
    "mq_protgroups_quicktest_file = f\"{quicktest_folder_mq_evidence}/proteinGroups.txt\"\n",
    "selected_proteins_file = f\"{quicktest_folder_mq_evidence}/selected_proteins.txt\"\n",
    "if __name__ == '__main__':    \n",
    "    lfq_manager.run_lfq(mq_evidence_quicktest_file, mq_protein_groups_txt= mq_protgroups_quicktest_file)\n",
    "    lfq_manager.run_lfq(mq_evidence_quicktest_file, mq_protein_groups_txt= mq_protgroups_quicktest_file,selected_proteins_file=selected_proteins_file, num_cores=1)"
   ]
  },
  {
   "cell_type": "code",
   "execution_count": 6,
   "metadata": {},
   "outputs": [
    {
     "name": "stderr",
     "output_type": "stream",
     "text": [
      "2024-02-21 14:42:22,192 - directlfq.lfq_manager - INFO - Starting directLFQ analysis.\n",
      "2024-02-21 14:42:22,355 - directlfq.utils - INFO - using input type spectronaut_fragion_isotopes\n",
      "2024-02-21 14:42:22,815 - directlfq.lfq_manager - INFO - Performing sample normalization.\n",
      "2024-02-21 14:42:22,816 - root - INFO - Normalizing only selected proteins\n",
      "2024-02-21 14:42:22,830 - directlfq.lfq_manager - INFO - Estimating lfq intensities.\n",
      "2024-02-21 14:42:22,831 - directlfq.protein_intensity_estimation - INFO - 50 lfq-groups total\n",
      "2024-02-21 14:42:22,854 - directlfq.protein_intensity_estimation - INFO - lfq-object 0\n",
      "2024-02-21 14:42:24,389 - directlfq.lfq_manager - INFO - Writing results files.\n",
      "2024-02-21 14:42:24,418 - directlfq.lfq_manager - INFO - Analysis finished!\n",
      "2024-02-21 14:42:24,419 - directlfq.lfq_manager - INFO - Starting directLFQ analysis.\n",
      "2024-02-21 14:42:24,573 - directlfq.utils - INFO - using input type spectronaut_fragion_isotopes\n",
      "2024-02-21 14:42:24,992 - directlfq.lfq_manager - INFO - Performing sample normalization.\n",
      "2024-02-21 14:42:25,002 - directlfq.lfq_manager - INFO - Estimating lfq intensities.\n",
      "2024-02-21 14:42:25,003 - directlfq.protein_intensity_estimation - INFO - 50 lfq-groups total\n",
      "2024-02-21 14:42:25,087 - directlfq.protein_intensity_estimation - INFO - using 10 processes\n",
      "2024-02-21 14:42:25,095 - directlfq.protein_intensity_estimation - INFO - lfq-object 0\n",
      "2024-02-21 14:42:25,624 - directlfq.lfq_manager - INFO - Writing results files.\n",
      "2024-02-21 14:42:25,653 - directlfq.lfq_manager - INFO - Analysis finished!\n"
     ]
    }
   ],
   "source": [
    "# run spectronaut\n",
    "import directlfq.lfq_manager as lfq_manager\n",
    "\n",
    "spectronaut_quicktest_file = f\"{quicktest_folder_spectronaut}/shortened_input.tsv\"\n",
    "spectronaut_protein_subset = f\"{quicktest_folder_spectronaut}/protein_subset.tsv\"\n",
    "if __name__ == '__main__':    \n",
    "    lfq_manager.run_lfq(spectronaut_quicktest_file, selected_proteins_file=spectronaut_protein_subset, num_cores=1, compile_normalized_ion_table=True)\n",
    "    lfq_manager.run_lfq(spectronaut_quicktest_file)"
   ]
  }
 ],
 "metadata": {
  "kernelspec": {
   "display_name": "Python 3.8.13 ('directlfq')",
   "language": "python",
   "name": "python3"
  },
  "language_info": {
   "codemirror_mode": {
    "name": "ipython",
    "version": 3
   },
   "file_extension": ".py",
   "mimetype": "text/x-python",
   "name": "python",
   "nbconvert_exporter": "python",
   "pygments_lexer": "ipython3",
   "version": "3.8.17"
  },
  "orig_nbformat": 4,
  "vscode": {
   "interpreter": {
    "hash": "9de3b9232e447c280dd70250498a698134997f78cce557ab922912f202e5081f"
   }
  }
 },
 "nbformat": 4,
 "nbformat_minor": 2
}
