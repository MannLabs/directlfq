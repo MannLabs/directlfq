{
 "cells": [
  {
   "cell_type": "code",
   "execution_count": 1,
   "metadata": {},
   "outputs": [],
   "source": [
    "quicktest_folder_mq_peptides = \"../../test_data/system_tests/quicktests/mq_peptides\"\n",
    "\n",
    "quicktest_folder_mq_evidence = \"../../test_data/system_tests/quicktests/mq_evidence\"\n",
    "\n",
    "quicktest_folder_diann = \"../../test_data/system_tests/quicktests/diann\"\n",
    "\n",
    "quicktest_folder_spectronaut = \"../../test_data/system_tests/quicktests/spectronaut\"\n",
    "\n",
    "quicktest_folders = [quicktest_folder_mq_peptides, quicktest_folder_mq_evidence, quicktest_folder_diann, quicktest_folder_spectronaut]"
   ]
  },
  {
   "cell_type": "code",
   "execution_count": 3,
   "metadata": {},
   "outputs": [
    {
     "name": "stderr",
     "output_type": "stream",
     "text": [
      "2024-02-21 15:15:50,514 - directlfq.lfq_manager - INFO - Starting directLFQ analysis.\n",
      "2024-02-21 15:15:50,664 - directlfq.utils - INFO - using input type diann_precursors\n",
      "2024-02-21 15:15:50,722 - directlfq.lfq_manager - INFO - Performing sample normalization.\n",
      "2024-02-21 15:15:50,724 - directlfq.normalization - INFO - to few values for normalization without missing values. Including missing values\n",
      "2024-02-21 15:15:50,727 - directlfq.lfq_manager - INFO - Estimating lfq intensities.\n",
      "2024-02-21 15:15:50,727 - directlfq.protein_intensity_estimation - INFO - 46 lfq-groups total\n",
      "2024-02-21 15:15:50,744 - directlfq.protein_intensity_estimation - INFO - lfq-object 0\n",
      "2024-02-21 15:15:51,341 - directlfq.lfq_manager - INFO - Writing results files.\n",
      "2024-02-21 15:15:51,355 - directlfq.lfq_manager - INFO - Analysis finished!\n",
      "2024-02-21 15:15:51,355 - directlfq.lfq_manager - INFO - Starting directLFQ analysis.\n",
      "2024-02-21 15:15:51,473 - directlfq.utils - INFO - using input type diann_peptide_based_on_precursor_ms1_and_ms2\n",
      "2024-02-21 15:15:51,618 - directlfq.lfq_manager - INFO - Performing sample normalization.\n",
      "2024-02-21 15:15:51,623 - directlfq.lfq_manager - INFO - Estimating lfq intensities.\n",
      "2024-02-21 15:15:51,624 - directlfq.protein_intensity_estimation - INFO - 840 lfq-groups total\n",
      "2024-02-21 15:15:51,936 - directlfq.protein_intensity_estimation - INFO - using 10 processes\n",
      "2024-02-21 15:15:51,959 - directlfq.protein_intensity_estimation - INFO - lfq-object 0\n",
      "2024-02-21 15:15:52,016 - directlfq.protein_intensity_estimation - INFO - lfq-object 100\n",
      "2024-02-21 15:15:52,073 - directlfq.protein_intensity_estimation - INFO - lfq-object 200\n",
      "2024-02-21 15:15:52,125 - directlfq.protein_intensity_estimation - INFO - lfq-object 300\n",
      "2024-02-21 15:15:52,180 - directlfq.protein_intensity_estimation - INFO - lfq-object 400\n",
      "2024-02-21 15:15:52,244 - directlfq.protein_intensity_estimation - INFO - lfq-object 500\n",
      "2024-02-21 15:15:52,299 - directlfq.protein_intensity_estimation - INFO - lfq-object 600\n",
      "2024-02-21 15:15:52,354 - directlfq.protein_intensity_estimation - INFO - lfq-object 700\n",
      "2024-02-21 15:15:52,408 - directlfq.protein_intensity_estimation - INFO - lfq-object 800\n",
      "2024-02-21 15:15:52,609 - directlfq.lfq_manager - INFO - Writing results files.\n",
      "2024-02-21 15:15:52,639 - directlfq.lfq_manager - INFO - Analysis finished!\n",
      "2024-02-21 15:15:52,640 - directlfq.lfq_manager - INFO - Starting directLFQ analysis.\n",
      "2024-02-21 15:15:52,765 - directlfq.utils - INFO - using input type diann_precursor_ms1_and_ms2\n",
      "2024-02-21 15:15:52,878 - directlfq.lfq_manager - INFO - Performing sample normalization.\n",
      "2024-02-21 15:15:52,883 - directlfq.lfq_manager - INFO - Estimating lfq intensities.\n",
      "2024-02-21 15:15:52,884 - directlfq.protein_intensity_estimation - INFO - 46 lfq-groups total\n",
      "2024-02-21 15:15:52,952 - directlfq.protein_intensity_estimation - INFO - using 10 processes\n",
      "2024-02-21 15:15:52,960 - directlfq.protein_intensity_estimation - INFO - lfq-object 0\n",
      "2024-02-21 15:15:53,274 - directlfq.lfq_manager - INFO - Writing results files.\n",
      "2024-02-21 15:15:53,295 - directlfq.lfq_manager - INFO - Analysis finished!\n",
      "2024-02-21 15:15:53,296 - directlfq.lfq_manager - INFO - Starting directLFQ analysis.\n",
      "2024-02-21 15:15:53,371 - directlfq.utils - INFO - using input type diann_precursor_ms1_and_ms2\n",
      "2024-02-21 15:15:53,505 - directlfq.lfq_manager - INFO - Performing sample normalization.\n",
      "2024-02-21 15:15:53,506 - root - INFO - Normalizing only selected proteins\n",
      "2024-02-21 15:15:53,516 - directlfq.lfq_manager - INFO - Estimating lfq intensities.\n",
      "2024-02-21 15:15:53,517 - directlfq.protein_intensity_estimation - INFO - 46 lfq-groups total\n",
      "2024-02-21 15:15:53,630 - directlfq.protein_intensity_estimation - INFO - using 10 processes\n",
      "2024-02-21 15:15:53,644 - directlfq.protein_intensity_estimation - INFO - lfq-object 0\n",
      "2024-02-21 15:15:53,997 - directlfq.lfq_manager - INFO - Writing results files.\n",
      "2024-02-21 15:15:54,022 - directlfq.lfq_manager - INFO - Analysis finished!\n"
     ]
    }
   ],
   "source": [
    "# run diann\n",
    "import directlfq.lfq_manager as lfq_manager\n",
    "import pandas as pd\n",
    "diann_quicktest_file = f\"{quicktest_folder_diann}/shortened_input.tsv\"\n",
    "filterdict_file = f\"{quicktest_folder_diann}/filterdict.yaml\"\n",
    "filter_dict={'protein_filt': {'param': 'Lib.PG.Q.Value', 'comparator': '<=', 'value': 0.01},\n",
    "                                                            'peptide_filt' :{'param' : 'Lib.Q.Value','comparator': '<=', 'value': 0.01}}\n",
    "if __name__ == '__main__':    \n",
    "    lfq_manager.run_lfq(diann_quicktest_file,  filter_dict=filterdict_file, num_cores=1)\n",
    "    lfq_manager.run_lfq(diann_quicktest_file, input_type_to_use='diann_peptide_based_on_precursor_ms1_and_ms2', filter_dict=filter_dict)\n",
    "    lfq_manager.run_lfq(diann_quicktest_file, input_type_to_use='diann_precursor_ms1_and_ms2')\n"
   ]
  },
  {
   "cell_type": "code",
   "execution_count": 4,
   "metadata": {},
   "outputs": [
    {
     "name": "stderr",
     "output_type": "stream",
     "text": [
      "2024-02-21 15:15:54,029 - directlfq.lfq_manager - INFO - Starting directLFQ analysis.\n",
      "2024-02-21 15:15:54,191 - directlfq.utils - INFO - using input type maxquant_peptides_leading_razor_protein\n",
      "2024-02-21 15:15:54,237 - directlfq.lfq_manager - INFO - Performing sample normalization.\n",
      "2024-02-21 15:15:54,239 - directlfq.normalization - INFO - to few values for normalization without missing values. Including missing values\n",
      "2024-02-21 15:15:54,245 - directlfq.lfq_manager - INFO - Estimating lfq intensities.\n",
      "2024-02-21 15:15:54,245 - directlfq.protein_intensity_estimation - INFO - 49 lfq-groups total\n",
      "2024-02-21 15:15:54,263 - directlfq.protein_intensity_estimation - INFO - lfq-object 0\n",
      "2024-02-21 15:15:54,816 - directlfq.lfq_manager - INFO - Writing results files.\n",
      "2024-02-21 15:15:54,831 - directlfq.lfq_manager - INFO - Analysis finished!\n"
     ]
    }
   ],
   "source": [
    "#run mq peptides\n",
    "\n",
    "import directlfq.lfq_manager as lfq_manager\n",
    "\n",
    "\n",
    "mq_peptides_quicktest_file = f\"{quicktest_folder_mq_peptides}/shortened_input.tsv\"\n",
    "mq_protgroups_quicktest_file = f\"{quicktest_folder_mq_peptides}/proteinGroups.txt\"\n",
    "if __name__ == '__main__':\n",
    "    lfq_manager.run_lfq(mq_peptides_quicktest_file, mq_protein_groups_txt= mq_protgroups_quicktest_file, \n",
    "num_cores=1)"
   ]
  },
  {
   "cell_type": "code",
   "execution_count": 5,
   "metadata": {},
   "outputs": [
    {
     "name": "stderr",
     "output_type": "stream",
     "text": [
      "2024-02-21 15:15:54,837 - directlfq.lfq_manager - INFO - Starting directLFQ analysis.\n",
      "2024-02-21 15:15:54,987 - directlfq.utils - INFO - using input type maxquant_evidence_leading_razor_protein\n",
      "2024-02-21 15:15:55,088 - directlfq.lfq_manager - INFO - Performing sample normalization.\n",
      "2024-02-21 15:15:55,090 - directlfq.normalization - INFO - to few values for normalization without missing values. Including missing values\n",
      "2024-02-21 15:15:55,096 - directlfq.lfq_manager - INFO - Estimating lfq intensities.\n",
      "2024-02-21 15:15:55,096 - directlfq.protein_intensity_estimation - INFO - 50 lfq-groups total\n",
      "2024-02-21 15:15:55,166 - directlfq.protein_intensity_estimation - INFO - using 10 processes\n",
      "2024-02-21 15:15:55,173 - directlfq.protein_intensity_estimation - INFO - lfq-object 0\n",
      "2024-02-21 15:15:55,396 - directlfq.lfq_manager - INFO - Writing results files.\n",
      "2024-02-21 15:15:55,413 - directlfq.lfq_manager - INFO - Analysis finished!\n",
      "2024-02-21 15:15:55,413 - directlfq.lfq_manager - INFO - Starting directLFQ analysis.\n",
      "2024-02-21 15:15:55,563 - directlfq.utils - INFO - using input type maxquant_evidence_leading_razor_protein\n",
      "2024-02-21 15:15:55,663 - directlfq.lfq_manager - INFO - Performing sample normalization.\n",
      "2024-02-21 15:15:55,664 - root - INFO - Normalizing only selected proteins\n",
      "2024-02-21 15:15:55,671 - directlfq.lfq_manager - INFO - Estimating lfq intensities.\n",
      "2024-02-21 15:15:55,671 - directlfq.protein_intensity_estimation - INFO - 50 lfq-groups total\n",
      "2024-02-21 15:15:55,688 - directlfq.protein_intensity_estimation - INFO - lfq-object 0\n",
      "2024-02-21 15:15:56,371 - directlfq.lfq_manager - INFO - Writing results files.\n",
      "2024-02-21 15:15:56,388 - directlfq.lfq_manager - INFO - Analysis finished!\n"
     ]
    }
   ],
   "source": [
    "#run mq evidence\n",
    "\n",
    "import directlfq.lfq_manager as lfq_manager\n",
    "\n",
    "mq_evidence_quicktest_file = f\"{quicktest_folder_mq_evidence}/shortened_input.tsv\"\n",
    "mq_protgroups_quicktest_file = f\"{quicktest_folder_mq_evidence}/proteinGroups.txt\"\n",
    "selected_proteins_file = f\"{quicktest_folder_mq_evidence}/selected_proteins.txt\"\n",
    "if __name__ == '__main__':    \n",
    "    lfq_manager.run_lfq(mq_evidence_quicktest_file, mq_protein_groups_txt= mq_protgroups_quicktest_file)\n",
    "    lfq_manager.run_lfq(mq_evidence_quicktest_file, mq_protein_groups_txt= mq_protgroups_quicktest_file,selected_proteins_file=selected_proteins_file, num_cores=1)"
   ]
  },
  {
   "cell_type": "code",
   "execution_count": 6,
   "metadata": {},
   "outputs": [
    {
     "name": "stderr",
     "output_type": "stream",
     "text": [
      "2024-02-21 15:15:56,395 - directlfq.lfq_manager - INFO - Starting directLFQ analysis.\n",
      "2024-02-21 15:15:56,548 - directlfq.utils - INFO - using input type spectronaut_fragion_isotopes\n",
      "2024-02-21 15:15:56,968 - directlfq.lfq_manager - INFO - Performing sample normalization.\n",
      "2024-02-21 15:15:56,969 - root - INFO - Normalizing only selected proteins\n",
      "2024-02-21 15:15:56,981 - directlfq.lfq_manager - INFO - Estimating lfq intensities.\n",
      "2024-02-21 15:15:56,983 - directlfq.protein_intensity_estimation - INFO - 50 lfq-groups total\n",
      "2024-02-21 15:15:57,004 - directlfq.protein_intensity_estimation - INFO - lfq-object 0\n",
      "2024-02-21 15:15:58,512 - directlfq.lfq_manager - INFO - Writing results files.\n",
      "2024-02-21 15:15:58,546 - directlfq.lfq_manager - INFO - Analysis finished!\n",
      "2024-02-21 15:15:58,547 - directlfq.lfq_manager - INFO - Starting directLFQ analysis.\n",
      "2024-02-21 15:15:58,697 - directlfq.utils - INFO - using input type spectronaut_fragion_isotopes\n",
      "2024-02-21 15:15:59,120 - directlfq.lfq_manager - INFO - Performing sample normalization.\n",
      "2024-02-21 15:15:59,130 - directlfq.lfq_manager - INFO - Estimating lfq intensities.\n",
      "2024-02-21 15:15:59,131 - directlfq.protein_intensity_estimation - INFO - 50 lfq-groups total\n",
      "2024-02-21 15:15:59,211 - directlfq.protein_intensity_estimation - INFO - using 10 processes\n",
      "2024-02-21 15:15:59,219 - directlfq.protein_intensity_estimation - INFO - lfq-object 0\n",
      "2024-02-21 15:15:59,735 - directlfq.lfq_manager - INFO - Writing results files.\n",
      "2024-02-21 15:15:59,764 - directlfq.lfq_manager - INFO - Analysis finished!\n"
     ]
    }
   ],
   "source": [
    "# run spectronaut\n",
    "import directlfq.lfq_manager as lfq_manager\n",
    "\n",
    "spectronaut_quicktest_file = f\"{quicktest_folder_spectronaut}/shortened_input.tsv\"\n",
    "spectronaut_protein_subset = f\"{quicktest_folder_spectronaut}/protein_subset.tsv\"\n",
    "if __name__ == '__main__':    \n",
    "    lfq_manager.run_lfq(spectronaut_quicktest_file, selected_proteins_file=spectronaut_protein_subset, num_cores=1, compile_normalized_ion_table=True)\n",
    "    lfq_manager.run_lfq(spectronaut_quicktest_file)"
   ]
  }
 ],
 "metadata": {
  "kernelspec": {
   "display_name": "Python 3.8.13 ('directlfq')",
   "language": "python",
   "name": "python3"
  },
  "language_info": {
   "codemirror_mode": {
    "name": "ipython",
    "version": 3
   },
   "file_extension": ".py",
   "mimetype": "text/x-python",
   "name": "python",
   "nbconvert_exporter": "python",
   "pygments_lexer": "ipython3",
   "version": "3.8.17"
  },
  "orig_nbformat": 4,
  "vscode": {
   "interpreter": {
    "hash": "9de3b9232e447c280dd70250498a698134997f78cce557ab922912f202e5081f"
   }
  }
 },
 "nbformat": 4,
 "nbformat_minor": 2
}
