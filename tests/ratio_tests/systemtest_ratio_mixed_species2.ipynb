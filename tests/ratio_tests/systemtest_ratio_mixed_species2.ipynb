{
 "cells": [
  {
   "cell_type": "code",
   "execution_count": null,
   "metadata": {},
   "outputs": [],
   "source": [
    "%reload_ext autoreload\n",
    "\n",
    "%autoreload 2"
   ]
  },
  {
   "cell_type": "code",
   "execution_count": null,
   "metadata": {},
   "outputs": [],
   "source": [
    "import os\n",
    "import directlfq\n",
    "import alphabase.tools.data_downloader\n",
    "\n",
    "# Get the directory of the directlfq package\n",
    "directlfq_dir = os.path.dirname(directlfq.__file__)\n",
    "\n",
    "# Navigate up two levels to reach the project root\n",
    "project_root = os.path.abspath(os.path.join(directlfq_dir, '..'))\n",
    "\n",
    "output_dir = os.path.join(project_root, 'test_data', 'system_tests', \"Spectronaut_LargeFC\")\n",
    "\n",
    "os.makedirs(output_dir, exist_ok=True)\n",
    "# Now use the absolute path in the DataShareDownloader call\n",
    "alphabase.tools.data_downloader.DataShareDownloader(url=\"https://datashare.biochem.mpg.de/s/T8sFUGuaQb0d1zP\", output_dir=output_dir).download()\n"
   ]
  },
  {
   "cell_type": "code",
   "execution_count": null,
   "metadata": {},
   "outputs": [],
   "source": [
    "INPUT_FILE = f\"{output_dir}/re_run_SN15/20220607_153923_MP-LFC-MS1var-OT-S1-120kMS1_Report.tsv.zip\"\n",
    "\n",
    "DIRECTLFQ_FILE = f\"{INPUT_FILE}.protein_intensities.tsv\"\n",
    "\n",
    "PROTEIN2ORGANISM_FILE = f\"{output_dir}/re_run_SN15/organism_map.tsv\"\n",
    "SAMPLEMAP  = f\"{output_dir}/re_run_SN15/samplemap.tsv\"\n"
   ]
  },
  {
   "cell_type": "code",
   "execution_count": null,
   "metadata": {},
   "outputs": [],
   "source": [
    "import directlfq.lfq_manager as lfqmgr\n",
    "\n",
    "lfqmgr.run_lfq(input_file=INPUT_FILE)\n"
   ]
  },
  {
   "cell_type": "code",
   "execution_count": null,
   "metadata": {},
   "outputs": [],
   "source": [
    "import directlfq.benchmarking as lfqbenchmark\n",
    "import directlfq.utils as lfqutils\n",
    "\n",
    "\n",
    "samples_used = lfqutils.get_samples_used_from_samplemap_file(SAMPLEMAP, cond1=\"S1\", cond2=\"S2\")\n",
    "\n",
    "\n",
    "restable_directlfq = lfqbenchmark.ResultsTableDirectLFQ(input_file=DIRECTLFQ_FILE, input_name=\"directLFQ\", samples_c1=samples_used[0], samples_c2=samples_used[1])\n"
   ]
  },
  {
   "cell_type": "code",
   "execution_count": null,
   "metadata": {},
   "outputs": [],
   "source": [
    "organism_annotator_spectronaut_based = lfqbenchmark.OrganismAnnotatorSpectronaut(mapping_file=PROTEIN2ORGANISM_FILE,protein_column=\"PG.ProteinGroups\", organism_column=\"PG.Organisms\")\n",
    "organism_annotator_spectronaut_based.annotate_table_with_organism(restable_directlfq)"
   ]
  },
  {
   "cell_type": "code",
   "execution_count": null,
   "metadata": {},
   "outputs": [],
   "source": [
    "display(restable_directlfq.formated_dataframe[\"organism\"].unique())"
   ]
  },
  {
   "cell_type": "code",
   "execution_count": null,
   "metadata": {},
   "outputs": [],
   "source": [
    "import numpy as np\n",
    "import directlfq.test_utils as testutils\n",
    "\n",
    "organisms_to_plot = [ \"Saccharomyces cerevisiae (strain ATCC 204508 / S288c)\", \"Homo sapiens\", \"Caenorhabditis elegans\"]\n",
    "fcs_to_expect = [  np.log2(2), 0, -np.log2(1.3)]\n",
    "\n",
    "organism2expectedfc = { \"Saccharomyces cerevisiae (strain ATCC 204508 / S288c)\" : np.log2(2), \"Homo sapiens\": 0, \"Caenorhabditis elegans\": -np.log2(1.3)}\n",
    "organism2CI95={\"Caenorhabditis elegans\" : 0.4, \"Homo sapiens\" :  0.3, \"Saccharomyces cerevisiae (strain ATCC 204508 / S288c)\" : 0.5}\n",
    "\n",
    "\n",
    "testutils.RatioChecker(formatted_df=restable_directlfq.formated_dataframe, organism2expectedfc=organism2expectedfc, organism2CI95=organism2CI95)\n",
    "\n"
   ]
  },
  {
   "cell_type": "code",
   "execution_count": null,
   "metadata": {},
   "outputs": [],
   "source": [
    "import seaborn as sns\n",
    "import directlfq.visualizations\n",
    "import directlfq.benchmarking\n",
    "import matplotlib.pyplot as plt\n",
    "import numpy as np\n",
    "\n",
    "\n",
    "class MultiOrganismMultiMethodBoxPlotAdapted(directlfq.visualizations.MultiOrganismMultiMethodBoxPlot):\n",
    "    def plot_boxplot(self):\n",
    "        color_palette = sns.color_palette(self._colorlist_hex, n_colors=len(self._fcs_to_expect))\n",
    "        sns.boxplot(data=self._method_ratio_results_table, x=\"method\", y = \"log2fc\", hue= \"organism\", palette=color_palette, hue_order=self._organisms_to_plot, ax=self.ax, linewidth=0.8)\n",
    "\n",
    "\n",
    "\n",
    "methodname2formatted_df = {\"standard\": restable_directlfq.formated_dataframe}\n",
    "\n",
    "fig, axes = plt.subplots(1, 2,figsize=(4, 4.363))\n",
    "\n",
    "merged_table = directlfq.benchmarking.ResultsTableMerger(method_name2results_df=methodname2formatted_df).merged_table\n",
    "\n",
    "\n",
    "MultiOrganismMultiMethodBoxPlotAdapted(method_ratio_results_table=merged_table, ax = axes[0], organisms_to_plot=organisms_to_plot,fcs_to_expect= fcs_to_expect)\n",
    "\n",
    "\n",
    "\n",
    "directlfq.visualizations.MultiOrganismIntensityFCPlotter(ax=axes[1], resultstable_w_ratios=restable_directlfq, organisms_to_plot = organisms_to_plot, fcs_to_expect= fcs_to_expect, title=\"\")\n",
    "\n"
   ]
  }
 ],
 "metadata": {
  "kernelspec": {
   "display_name": "directlfq",
   "language": "python",
   "name": "python3"
  },
  "language_info": {
   "codemirror_mode": {
    "name": "ipython",
    "version": 3
   },
   "file_extension": ".py",
   "mimetype": "text/x-python",
   "name": "python",
   "nbconvert_exporter": "python",
   "pygments_lexer": "ipython3",
   "version": "3.9.20"
  }
 },
 "nbformat": 4,
 "nbformat_minor": 2
}
