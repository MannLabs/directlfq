{
 "cells": [
  {
   "cell_type": "code",
   "execution_count": null,
   "metadata": {},
   "outputs": [],
   "source": [
    "%reload_ext autoreload\n",
    "\n",
    "%autoreload 2"
   ]
  },
  {
   "cell_type": "code",
   "execution_count": null,
   "metadata": {},
   "outputs": [],
   "source": [
    "import os\n",
    "import directlfq\n",
    "import alphabase.test_data_downloader\n",
    "\n",
    "# Get the directory of the directlfq package\n",
    "directlfq_dir = os.path.dirname(directlfq.__file__)\n",
    "\n",
    "# Navigate up two levels to reach the project root\n",
    "project_root = os.path.abspath(os.path.join(directlfq_dir, '..'))\n",
    "\n",
    "output_dir = os.path.join(project_root, 'test_data', 'system_tests')\n",
    "\n",
    "os.makedirs(output_dir, exist_ok=True)\n",
    "# Now use the absolute path in the DataShareDownloader call\n",
    "alphabase.test_data_downloader.DataShareDownloader(url=\"https://datashare.biochem.mpg.de/s/zjSHOAzKBaF2Z73\", output_dir=output_dir).download()\n"
   ]
  },
  {
   "cell_type": "code",
   "execution_count": null,
   "metadata": {},
   "outputs": [],
   "source": [
    "INPUT_FILE = f\"{output_dir}/diaPASEF_diann/report.tsv.top3added.tsv.zip\"\n",
    "\n",
    "DIRECTLFQ_FILE_PRECURSORS_MS1_MS2 = f\"{INPUT_FILE}.diann_precursor_ms1_and_ms2.protein_intensities.tsv\"\n",
    "DIRECTLFQ_FILE_PRECURSORS = f\"{INPUT_FILE}.diann_precursors.protein_intensities.tsv\"\n",
    "DIRECTLFQ_FILE_FRAGIONS = f\"{INPUT_FILE}.diann_precursor_ms1_and_ms2.protein_intensities.tsv\"\n",
    "\n",
    "\n",
    "SAMPLEMAP  = f\"{output_dir}/diaPASEF_diann/samplemap.tsv\""
   ]
  },
  {
   "cell_type": "code",
   "execution_count": null,
   "metadata": {},
   "outputs": [],
   "source": [
    "import directlfq.lfq_manager as lfqmgr\n",
    "input_types_to_use  = [\"diann_fragion_isotopes_topn\", \"diann_precursor_ms1_and_ms2\", \"diann_precursors\", \"diann_fragion_isotopes\"]\n",
    "for input_type in input_types_to_use:\n",
    "\tlfqmgr.run_lfq(input_file=INPUT_FILE, input_type_to_use=input_type)"
   ]
  },
  {
   "cell_type": "code",
   "execution_count": null,
   "metadata": {},
   "outputs": [],
   "source": [
    "import directlfq.benchmarking as lfqbenchmark\n",
    "import directlfq.utils as lfqutils\n",
    "\n",
    "\n",
    "samples_used = lfqutils.get_samples_used_from_samplemap_file(SAMPLEMAP, cond1=\"45ng\", cond2=\"15ng\")\n",
    "\n",
    "\n",
    "restable_directlfq_ms1_and_ms2 = lfqbenchmark.ResultsTableDirectLFQ(input_file=DIRECTLFQ_FILE_PRECURSORS_MS1_MS2, input_name=\"directLFQ\", samples_c1=samples_used[0], samples_c2=samples_used[1])\n",
    "restable_directlfq_precursors = lfqbenchmark.ResultsTableDirectLFQ(input_file=DIRECTLFQ_FILE_PRECURSORS, input_name=\"directLFQ\", samples_c1=samples_used[0], samples_c2=samples_used[1])\n",
    "restable_directlfq_fragions = lfqbenchmark.ResultsTableDirectLFQ(input_file=DIRECTLFQ_FILE_FRAGIONS, input_name=\"directLFQ\", samples_c1=samples_used[0], samples_c2=samples_used[1])\n",
    "\n",
    "\n",
    "restables = [restable_directlfq_ms1_and_ms2, restable_directlfq_precursors, restable_directlfq_fragions]\n",
    "restable_names = [\"directLFQ (precursors, MS1+MS2)\", \"directLFQ (precursors)\", \"directLFQ (fragions)\"]\n",
    "\n",
    "organism_annotator_diann = lfqbenchmark.OrganismAnnotatorDIANN(mapping_file=INPUT_FILE)\n",
    "for restable in restables:\n",
    "    organism_annotator_diann.annotate_table_with_organism(restable)\n",
    "    \n",
    "\n",
    "methodname2formatted_df = {'directLFQ_precursor_ms1_and_ms2' : restable_directlfq_ms1_and_ms2.formated_dataframe, 'directLFQ_precursor' : restable_directlfq_precursors.formated_dataframe,\n",
    "                        'directLFQ_fragions' : restable_directlfq_fragions.formated_dataframe}"
   ]
  },
  {
   "cell_type": "code",
   "execution_count": null,
   "metadata": {},
   "outputs": [],
   "source": [
    "import numpy as np\n",
    "import directlfq.test_utils as testutils\n",
    "\n",
    "organism2expectedfc={\"YEAST\" : np.log2(3), \"HUMAN\" : 0}\n",
    "organism2CI95={\"YEAST\" : 0.93, \"HUMAN\" : 0.3}\n",
    "\n",
    "for method, formatted_df in methodname2formatted_df.items():\n",
    "\ttestutils.RatioChecker(formatted_df=formatted_df, organism2expectedfc=organism2expectedfc, organism2CI95=organism2CI95)\n",
    "\tprint(f\"Method {method} passed the test\")\n",
    "\t\n",
    "\n"
   ]
  },
  {
   "cell_type": "code",
   "execution_count": null,
   "metadata": {},
   "outputs": [],
   "source": [
    "import seaborn as sns\n",
    "import directlfq.visualizations\n",
    "import directlfq.benchmarking\n",
    "import matplotlib.pyplot as plt\n",
    "import numpy as np\n",
    "\n",
    "\n",
    "class MultiOrganismMultiMethodBoxPlotAdapted(directlfq.visualizations.MultiOrganismMultiMethodBoxPlot):\n",
    "    def plot_boxplot(self):\n",
    "        color_palette = sns.color_palette(self._colorlist_hex, n_colors=len(self._fcs_to_expect))\n",
    "        sns.boxplot(data=self._method_ratio_results_table, x=\"method\", y = \"log2fc\", hue= \"organism\", palette=color_palette, hue_order=self._organisms_to_plot, ax=self.ax, linewidth=0.8)\n",
    "\n",
    "\n",
    "\n",
    "\n",
    "num_results = len(restables)\n",
    "\n",
    "fig, axes = plt.subplots(1, num_results+1,figsize=(4*num_results, 4.363))\n",
    "\n",
    "organisms_to_plot = [ \"YEAST\", \"HUMAN\"]\n",
    "fcs_to_expect = [  np.log2(3), 0]\n",
    "\n",
    "merged_table = directlfq.benchmarking.ResultsTableMerger(method_name2results_df=methodname2formatted_df).merged_table\n",
    "\n",
    "\n",
    "MultiOrganismMultiMethodBoxPlotAdapted(method_ratio_results_table=merged_table, ax = axes[0], organisms_to_plot=organisms_to_plot,fcs_to_expect= fcs_to_expect)\n",
    "\n",
    "\n",
    "for idx in range(num_results):\n",
    "    restable = restables[idx]\n",
    "    name = restable_names[idx]\n",
    "    ax = axes[idx+1]\n",
    "    directlfq.visualizations.MultiOrganismIntensityFCPlotter(ax=ax, resultstable_w_ratios=restable, organisms_to_plot = organisms_to_plot, fcs_to_expect= fcs_to_expect, title=name)\n",
    "\n"
   ]
  }
 ],
 "metadata": {
  "kernelspec": {
   "display_name": "directlfq",
   "language": "python",
   "name": "python3"
  },
  "language_info": {
   "codemirror_mode": {
    "name": "ipython",
    "version": 3
   },
   "file_extension": ".py",
   "mimetype": "text/x-python",
   "name": "python",
   "nbconvert_exporter": "python",
   "pygments_lexer": "ipython3",
   "version": "3.9.20"
  }
 },
 "nbformat": 4,
 "nbformat_minor": 2
}
